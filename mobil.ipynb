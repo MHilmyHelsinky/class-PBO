{
  "nbformat": 4,
  "nbformat_minor": 0,
  "metadata": {
    "colab": {
      "provenance": [],
      "authorship_tag": "ABX9TyNhmQMLyq5eKZiNVd0HXFtw",
      "include_colab_link": true
    },
    "kernelspec": {
      "name": "python3",
      "display_name": "Python 3"
    },
    "language_info": {
      "name": "python"
    }
  },
  "cells": [
    {
      "cell_type": "markdown",
      "metadata": {
        "id": "view-in-github",
        "colab_type": "text"
      },
      "source": [
        "<a href=\"https://colab.research.google.com/github/MHilmyHelsinky/class-PBO/blob/main/mobil.ipynb\" target=\"_parent\"><img src=\"https://colab.research.google.com/assets/colab-badge.svg\" alt=\"Open In Colab\"/></a>"
      ]
    },
    {
      "cell_type": "code",
      "execution_count": 3,
      "metadata": {
        "colab": {
          "base_uri": "https://localhost:8080/"
        },
        "id": "e59GFbCMIcKC",
        "outputId": "b55f1ce3-922f-4920-c211-d39fe72d924a"
      },
      "outputs": [
        {
          "output_type": "stream",
          "name": "stdout",
          "text": [
            "mobil ini bermerek toyota dan model avanza.\n"
          ]
        }
      ],
      "source": [
        "class mobil:\n",
        "  def __init__(self,merek,model):\n",
        "    self.merek = merek\n",
        "    self.model = model\n",
        "\n",
        "  def info(self):\n",
        "    return f\"mobil ini bermerek {self.merek} dan model {self.model}.\"\n",
        "\n",
        "mobil1 = mobil(\"toyota\",\"avanza\")\n",
        "print(mobil1.info())"
      ]
    }
  ]
}