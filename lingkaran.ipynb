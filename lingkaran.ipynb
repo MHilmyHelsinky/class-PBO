{
  "nbformat": 4,
  "nbformat_minor": 0,
  "metadata": {
    "colab": {
      "provenance": [],
      "authorship_tag": "ABX9TyNC1tHslvVNlAel3kxyCUC0",
      "include_colab_link": true
    },
    "kernelspec": {
      "name": "python3",
      "display_name": "Python 3"
    },
    "language_info": {
      "name": "python"
    }
  },
  "cells": [
    {
      "cell_type": "markdown",
      "metadata": {
        "id": "view-in-github",
        "colab_type": "text"
      },
      "source": [
        "<a href=\"https://colab.research.google.com/github/MHilmyHelsinky/class-PBO/blob/main/lingkaran.ipynb\" target=\"_parent\"><img src=\"https://colab.research.google.com/assets/colab-badge.svg\" alt=\"Open In Colab\"/></a>"
      ]
    },
    {
      "cell_type": "code",
      "execution_count": 6,
      "metadata": {
        "colab": {
          "base_uri": "https://localhost:8080/"
        },
        "id": "kTWl_0wXGiED",
        "outputId": "f878dead-f7c6-4cb6-d5c7-b067a82de6ee"
      },
      "outputs": [
        {
          "output_type": "stream",
          "name": "stdout",
          "text": [
            "Keliling Lingkaran: 50.26548245743669\n"
          ]
        }
      ],
      "source": [
        "import math\n",
        "\n",
        "class Lingkaran:\n",
        "    def __init__(self, jari_jari):\n",
        "        self.jari_jari = jari_jari\n",
        "\n",
        "    def hitung_keliling(self):\n",
        "        return 2 * math.pi * self.jari_jari\n",
        "\n",
        "lingkaran = Lingkaran(8)\n",
        "print(f\"Keliling Lingkaran: {lingkaran.hitung_keliling()}\")"
      ]
    }
  ]
}