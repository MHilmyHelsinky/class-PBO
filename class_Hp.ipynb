{
  "nbformat": 4,
  "nbformat_minor": 0,
  "metadata": {
    "colab": {
      "provenance": [],
      "authorship_tag": "ABX9TyOS3FOYkUUzz05YzM+SePfu",
      "include_colab_link": true
    },
    "kernelspec": {
      "name": "python3",
      "display_name": "Python 3"
    },
    "language_info": {
      "name": "python"
    }
  },
  "cells": [
    {
      "cell_type": "markdown",
      "metadata": {
        "id": "view-in-github",
        "colab_type": "text"
      },
      "source": [
        "<a href=\"https://colab.research.google.com/github/MHilmyHelsinky/class-PBO/blob/main/class_Hp.ipynb\" target=\"_parent\"><img src=\"https://colab.research.google.com/assets/colab-badge.svg\" alt=\"Open In Colab\"/></a>"
      ]
    },
    {
      "cell_type": "code",
      "execution_count": 8,
      "metadata": {
        "colab": {
          "base_uri": "https://localhost:8080/"
        },
        "id": "Q1xdL5tE6Y6j",
        "outputId": "ffd72e79-bdb1-43a0-ec42-78603376275b"
      },
      "outputs": [
        {
          "output_type": "stream",
          "name": "stdout",
          "text": [
            "handphone ini bermerek samsung dan memiliki ram 6 GB.\n"
          ]
        }
      ],
      "source": [
        "class handphone:\n",
        "  def __init__(self,merek,ram):\n",
        "    self.merek = merek\n",
        "    self.ram = ram\n",
        "\n",
        "  def info(self):\n",
        "    return f\"handphone ini bermerek {self.merek} dan memiliki ram {self.ram} GB.\"\n",
        "\n",
        "handphone1 = handphone(\"samsung\",6)\n",
        "print(handphone1.info())"
      ]
    }
  ]
}