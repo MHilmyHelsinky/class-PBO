{
  "nbformat": 4,
  "nbformat_minor": 0,
  "metadata": {
    "colab": {
      "provenance": [],
      "authorship_tag": "ABX9TyNSEVmcywNJylLjBlsthawn",
      "include_colab_link": true
    },
    "kernelspec": {
      "name": "python3",
      "display_name": "Python 3"
    },
    "language_info": {
      "name": "python"
    }
  },
  "cells": [
    {
      "cell_type": "markdown",
      "metadata": {
        "id": "view-in-github",
        "colab_type": "text"
      },
      "source": [
        "<a href=\"https://colab.research.google.com/github/MHilmyHelsinky/class-PBO/blob/main/buku.ipynb\" target=\"_parent\"><img src=\"https://colab.research.google.com/assets/colab-badge.svg\" alt=\"Open In Colab\"/></a>"
      ]
    },
    {
      "cell_type": "code",
      "execution_count": 1,
      "metadata": {
        "colab": {
          "base_uri": "https://localhost:8080/"
        },
        "id": "nILBUiVaJ8bv",
        "outputId": "e98b643a-3c56-4652-db08-dace119a83b9"
      },
      "outputs": [
        {
          "output_type": "stream",
          "name": "stdout",
          "text": [
            "Judul: Laskar Pelangi\n",
            "Penulis: Andrea Hirata\n",
            "Tahun Terbit: 2005\n"
          ]
        }
      ],
      "source": [
        "class Buku:\n",
        "    def __init__(self, judul, penulis, tahun_terbit):\n",
        "        self.judul = judul\n",
        "        self.penulis = penulis\n",
        "        self.tahun_terbit = tahun_terbit\n",
        "\n",
        "    def info_buku(self):\n",
        "        print(f\"Judul: {self.judul}\")\n",
        "        print(f\"Penulis: {self.penulis}\")\n",
        "        print(f\"Tahun Terbit: {self.tahun_terbit}\")\n",
        "\n",
        "\n",
        "buku1 = Buku(\"Laskar Pelangi\", \"Andrea Hirata\", 2005)\n",
        "buku1.info_buku()"
      ]
    }
  ]
}